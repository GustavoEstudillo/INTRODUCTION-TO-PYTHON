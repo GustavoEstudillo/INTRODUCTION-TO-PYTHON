{
 "cells": [
  {
   "attachments": {
    "p%C3%BDthon%20logo.jpg": {
     "image/jpeg": "[encoded data removed]"
    }
   },
   "cell_type": "markdown",
   "id": "d471d6c7",
   "metadata": {},
   "source": [
    "![p%C3%BDthon%20logo.jpg](attachment:p%C3%BDthon%20logo.jpg)"
   ]
  },
  {
   "cell_type": "markdown",
   "id": "b651f433",
   "metadata": {},
   "source": [
    "# HISTORY BY PYTHON"
   ]
  },
  {
   "cell_type": "markdown",
   "id": "b66166a8",
   "metadata": {},
   "source": [
    "Python is a high-level, interpretive, general-purpose dynamic programming language with a strong emphasis on code readability. In comparison to Java or C++, Python’s syntax allows programmers to code in fewer steps. Because of its numerous programming paradigms, Python is commonly employed in larger enterprises. In most cases, imperative and object-oriented functional programming is used. It comes with a vast and comprehensive standard library, as well as automatic memory management and various features.\n",
    "\n",
    "Let’s now delve a little more into the history and development of the Python programming language.\n",
    "\n",
    "When discussing the history of Python, it’s impossible to overlook the influence of the ABC programming language, which influenced the design and development of Python.\n",
    "\n",
    "Van Rossum worked as an implementer of the ABC programming language at CWI (Centrum Voor Wiskunde en Informatica) in the early 1980s. Later, when working on a new distributed operating system called AMOEBA at CWI in the late 1980s, Van Rossum began exploring a scripting language with a syntax similar to ABC but with access to the Amoeba system calls. As a result, Van Rossum set out to create a new simple scripting language that could overcome ABC’s limitations.\n",
    "\n",
    "Van Rossum began working on the new script in the late 1980s, and the first version of the programming language was released in 1991. Modula-3 is the module system used in this initial release. Python was the name given to this programming language later on."
   ]
  },
  {
   "cell_type": "markdown",
   "id": "379a2d58",
   "metadata": {},
   "source": [
    "## What is the significance of the name Python?"
   ]
  },
  {
   "cell_type": "markdown",
   "id": "e4ed26c8",
   "metadata": {},
   "source": [
    "Rossum, a Python developer, wanted his new language’s name to be short, original, and mysterious. Python was inspired by Monty Python’s Flying Circus, a BBC comedy series."
   ]
  },
  {
   "attachments": {
    "vulnerabilidad-critica-python.jpg": {
     "image/jpeg": "[encoded data removed]"
    }
   },
   "cell_type": "markdown",
   "id": "7f24f099",
   "metadata": {},
   "source": [
    "![vulnerabilidad-critica-python.jpg](attachment:vulnerabilidad-critica-python.jpg)"
   ]
  },
  {
   "cell_type": "markdown",
   "id": "0b57e1e1",
   "metadata": {},
   "source": [
    "# INTRODUCTION TO THE PRINT STATEMENT"
   ]
  },
  {
   "cell_type": "markdown",
   "id": "46cc6143",
   "metadata": {},
   "source": [
    "The print statement is one of the most important statement for show us the text on the screen. We have several ways of to use it, in the next lines I will show some of these."
   ]
  },
  {
   "cell_type": "markdown",
   "id": "b4383935",
   "metadata": {},
   "source": [
    "## Print text"
   ]
  },
  {
   "cell_type": "markdown",
   "id": "4551a8c0",
   "metadata": {},
   "source": [
    "The print statement is used to show us a message on screen, for example:"
   ]
  },
  {
   "cell_type": "code",
   "execution_count": 8,
   "id": "7af1017f",
   "metadata": {},
   "outputs": [
    {
     "name": "stdout",
     "output_type": "stream",
     "text": [
      "My name is Gustavo Estudillo\n"
     ]
    }
   ],
   "source": [
    "print ('My name is Gustavo Estudillo')"
   ]
  },
  {
   "cell_type": "code",
   "execution_count": 9,
   "id": "d5e80e54",
   "metadata": {},
   "outputs": [
    {
     "name": "stdout",
     "output_type": "stream",
     "text": [
      "I like the sports or anything that you want to say \n"
     ]
    }
   ],
   "source": [
    "print('I like the sports or anything that you want to say ')"
   ]
  },
  {
   "cell_type": "markdown",
   "id": "cf1b1eae",
   "metadata": {},
   "source": [
    "# Solving a ecuation"
   ]
  },
  {
   "cell_type": "markdown",
   "id": "6c800942",
   "metadata": {},
   "source": [
    "Also yo can solve any ecuation easily, for example:"
   ]
  },
  {
   "cell_type": "code",
   "execution_count": 10,
   "id": "f0e251a8",
   "metadata": {},
   "outputs": [
    {
     "name": "stdout",
     "output_type": "stream",
     "text": [
      "The result of 10+20+25 is equal:\n",
      "55\n"
     ]
    }
   ],
   "source": [
    "print(\"The result of 10+20+25 is equal:\")\n",
    "print(10+20+25)"
   ]
  },
  {
   "cell_type": "markdown",
   "id": "925187c5",
   "metadata": {},
   "source": [
    "## Printing a variable"
   ]
  },
  {
   "cell_type": "markdown",
   "id": "32716591",
   "metadata": {},
   "source": [
    "With the next example you can save a variable and print its value, for example:"
   ]
  },
  {
   "cell_type": "code",
   "execution_count": 12,
   "id": "5ad564aa",
   "metadata": {},
   "outputs": [
    {
     "name": "stdout",
     "output_type": "stream",
     "text": [
      "The life is good\n",
      "If you are good person\n"
     ]
    }
   ],
   "source": [
    "x= \"The life is good\"\n",
    "print(x)\n",
    "\n",
    "y=\"If you are good person\"\n",
    "print(y)\n"
   ]
  },
  {
   "cell_type": "markdown",
   "id": "2fa388f7",
   "metadata": {},
   "source": [
    "## Print two outputs in the same line"
   ]
  },
  {
   "cell_type": "markdown",
   "id": "b882baba",
   "metadata": {},
   "source": [
    "We can print two or more messages on screen, for example:"
   ]
  },
  {
   "cell_type": "code",
   "execution_count": 13,
   "id": "fda01278",
   "metadata": {},
   "outputs": [
    {
     "name": "stdout",
     "output_type": "stream",
     "text": [
      "My name is Gustavo\n",
      "And Im 34 years old\n"
     ]
    }
   ],
   "source": [
    "print(\"My name is Gustavo\")\n",
    "print(\"And Im 34 years old\")"
   ]
  },
  {
   "cell_type": "markdown",
   "id": "ee777c2b",
   "metadata": {},
   "source": [
    "## Variables in the same print "
   ]
  },
  {
   "cell_type": "markdown",
   "id": "886c83ef",
   "metadata": {},
   "source": [
    "We can print several variables in the same line of text with commas, example: "
   ]
  },
  {
   "cell_type": "code",
   "execution_count": 16,
   "id": "ae5798f0",
   "metadata": {},
   "outputs": [
    {
     "name": "stdout",
     "output_type": "stream",
     "text": [
      "Hi, I would like Chiles rellenos and drink  Coconut Horchata\n"
     ]
    }
   ],
   "source": [
    "fav_eat= \"Chiles rellenos\"\n",
    "drink= \"Coconut Horchata\"\n",
    "print(\"Hi, I would like\", fav_eat , \"and drink \", drink ,)"
   ]
  },
  {
   "cell_type": "markdown",
   "id": "735c184d",
   "metadata": {},
   "source": [
    "## Create a variable with a question"
   ]
  },
  {
   "cell_type": "markdown",
   "id": "3357a09c",
   "metadata": {},
   "source": [
    "In this way you can print the variable for wich you asked, example:"
   ]
  },
  {
   "cell_type": "code",
   "execution_count": 17,
   "id": "258e42de",
   "metadata": {},
   "outputs": [
    {
     "name": "stdout",
     "output_type": "stream",
     "text": [
      "What is your name?Gustavo\n",
      "it will be a pleasure to assist you, Gustavo\n"
     ]
    }
   ],
   "source": [
    "name=input(\"What is your name?\")\n",
    "print(\"it will be a pleasure to assist you,\", name)"
   ]
  },
  {
   "cell_type": "markdown",
   "id": "387680ad",
   "metadata": {},
   "source": [
    "# INTRODUCTION TO THE IF STATEMENT"
   ]
  },
  {
   "cell_type": "markdown",
   "id": "b57e37df",
   "metadata": {},
   "source": [
    "If statement is used to establish condition, if you considered something, then as a consequence something will happen, the logic way. For example:"
   ]
  },
  {
   "cell_type": "code",
   "execution_count": 18,
   "id": "7aae4f37",
   "metadata": {},
   "outputs": [
    {
     "name": "stdout",
     "output_type": "stream",
     "text": [
      "a is greater than b\n"
     ]
    }
   ],
   "source": [
    "a=18\n",
    "b=15\n",
    "if a>=b : #this is the condition\n",
    "    print(\"a is greater than b\")"
   ]
  },
  {
   "cell_type": "markdown",
   "id": "3c6fabd7",
   "metadata": {},
   "source": [
    "## AND"
   ]
  },
  {
   "cell_type": "markdown",
   "id": "fb6fbe48",
   "metadata": {},
   "source": [
    "if you need manage more variables, the way of make that is the next."
   ]
  },
  {
   "cell_type": "code",
   "execution_count": 24,
   "id": "eee46301",
   "metadata": {},
   "outputs": [
    {
     "name": "stdout",
     "output_type": "stream",
     "text": [
      "All the variables are the same\n"
     ]
    }
   ],
   "source": [
    "a=21\n",
    "b=21\n",
    "c=21\n",
    "if a == b and b == c: # if the three numbers are equal so print the next mesage\n",
    "    print(\"All the variables are the same\")\n",
    "\n"
   ]
  },
  {
   "cell_type": "markdown",
   "id": "ff22e10c",
   "metadata": {},
   "source": [
    "## OR"
   ]
  },
  {
   "cell_type": "markdown",
   "id": "cfc5d518",
   "metadata": {},
   "source": [
    "When you need be comparatives between three or more variables, and the interactions with them, so you need to use OR for to be comparisons. For example"
   ]
  },
  {
   "cell_type": "code",
   "execution_count": 28,
   "id": "2987b845",
   "metadata": {},
   "outputs": [
    {
     "name": "stdout",
     "output_type": "stream",
     "text": [
      "One or both conditionals are true\n"
     ]
    }
   ],
   "source": [
    "a=1800\n",
    "b=1900\n",
    "c=2000\n",
    "if a >= b or c >= b: # in this case just one condicional is true\n",
    "    print(\"One or both conditionals are true\")\n"
   ]
  },
  {
   "cell_type": "markdown",
   "id": "5056bbfc",
   "metadata": {},
   "source": [
    "A most practical example could be with the age for drink alcochol and smoke in USA."
   ]
  },
  {
   "cell_type": "code",
   "execution_count": 31,
   "id": "075ab25f",
   "metadata": {},
   "outputs": [
    {
     "name": "stdout",
     "output_type": "stream",
     "text": [
      "How old are you? 55\n",
      "You can smoke and drink until you lose consciousness\n"
     ]
    }
   ],
   "source": [
    "age= int(input(\"How old are you? \")) # We create the variable age, and order to input a whole number with INT\n",
    "if age >=21:\n",
    "    print(\"You can smoke and drink until you lose consciousness\")\n",
    "if age >= 18 and age < 21:    #In this line I define the age range in which if both are met, the message will be displayed\n",
    "    print(\"You cant drink, just smoke until you die\")\n",
    "if age < 18:\n",
    "    print(\"You should leave this place \")"
   ]
  },
  {
   "cell_type": "markdown",
   "id": "ed0e67f8",
   "metadata": {},
   "source": [
    "## Else statement "
   ]
  },
  {
   "cell_type": "markdown",
   "id": "c814fe05",
   "metadata": {},
   "source": [
    "The ELSE statement is used when you have two response options for a condition, if the condition is met it shows a message, and if it is not shown then it shows another. Check that:"
   ]
  },
  {
   "cell_type": "code",
   "execution_count": 32,
   "id": "b01892a9",
   "metadata": {},
   "outputs": [
    {
     "name": "stdout",
     "output_type": "stream",
     "text": [
      " a and b are equal\n"
     ]
    }
   ],
   "source": [
    "a=1250\n",
    "b=1250\n",
    "if a == b:\n",
    "    print(\" a and b are equal\")\n",
    "else:\n",
    "    print(\"a and b are uneven\")"
   ]
  },
  {
   "cell_type": "markdown",
   "id": "38c62730",
   "metadata": {},
   "source": [
    "# LOOPS"
   ]
  },
  {
   "cell_type": "markdown",
   "id": "a6af9abe",
   "metadata": {},
   "source": [
    "## FOR LOOPS"
   ]
  },
  {
   "cell_type": "markdown",
   "id": "43bb481d",
   "metadata": {},
   "source": [
    "It is one of the most used in programming because it allows repeating several instructions (steps) a certain number of times (for example, 10 times)."
   ]
  },
  {
   "cell_type": "code",
   "execution_count": 38,
   "id": "d05aa606",
   "metadata": {},
   "outputs": [
    {
     "name": "stdout",
     "output_type": "stream",
     "text": [
      "how are you\n",
      "how are you\n",
      "how are you\n",
      "how are you\n",
      "how are you\n",
      "how are you\n",
      "how are you\n",
      "how are you\n",
      "how are you\n",
      "how are you\n"
     ]
    }
   ],
   "source": [
    "for i in range(0,10): # the structure is for name_of_the_variable in range(first_value, last_value)\n",
    "    print(\"how are you\")\n",
    "    "
   ]
  },
  {
   "cell_type": "code",
   "execution_count": 39,
   "id": "55da106b",
   "metadata": {},
   "outputs": [
    {
     "name": "stdout",
     "output_type": "stream",
     "text": [
      "Enter the number of ages 5\n",
      " Age: 15\n",
      " Age: 20\n",
      " Age: 35\n",
      " Age: 45\n",
      " Age: 86\n",
      "Sample: \n",
      "15 20 35 45 86 \n",
      "\n",
      "The sample mean is = 40.2\n"
     ]
    }
   ],
   "source": [
    "values = int(input(\"Enter the number of ages \"))\n",
    "ages = []\n",
    "total = 0\n",
    "for i in range(0,values):\n",
    "    x = int(input(\" Age: \"))\n",
    "    ages.append(x)\n",
    "    total += x\n",
    "print(\"Sample: \")\n",
    "\n",
    "for age in ages:\n",
    "    print(age, end = ' ')\n",
    "\n",
    "sample_mean = total/values\n",
    "\n",
    "print(f\"\\n\\nThe sample mean is = {sample_mean}\")"
   ]
  },
  {
   "cell_type": "markdown",
   "id": "53a2c120",
   "metadata": {},
   "source": [
    "# WHILE LOOP"
   ]
  },
  {
   "cell_type": "markdown",
   "id": "e04a2954",
   "metadata": {},
   "source": [
    "A while loop is a structure that is used to execute a block of code repeatedly until a certain condition is met. Running the VI executes the code inside the While loop, and then the terminal condition is evaluated."
   ]
  },
  {
   "cell_type": "code",
   "execution_count": 48,
   "id": "6588d81a",
   "metadata": {},
   "outputs": [
    {
     "name": "stdout",
     "output_type": "stream",
     "text": [
      "write a number5\n",
      "write a number again15\n",
      "15\n"
     ]
    }
   ],
   "source": [
    "numb = int(input(u\"write a number \")) # asks you to enter any number\n",
    "while numb<10: # \n",
    "the condition is that if you enter a number less than 10, it will ask you to enter another number, until you enter one greater than 10\n",
    " numb = int(input(u\"write a number again\"))\n",
    "print (numb)"
   ]
  },
  {
   "cell_type": "code",
   "execution_count": null,
   "id": "829f4146",
   "metadata": {},
   "outputs": [],
   "source": []
  }
 ],
 "metadata": {
  "kernelspec": {
   "display_name": "Python 3",
   "language": "python",
   "name": "python3"
  },
  "language_info": {
   "codemirror_mode": {
    "name": "ipython",
    "version": 3
   },
   "file_extension": ".py",
   "mimetype": "text/x-python",
   "name": "python",
   "nbconvert_exporter": "python",
   "pygments_lexer": "ipython3",
   "version": "3.8.8"
  }
 },
 "nbformat": 4,
 "nbformat_minor": 5
}
